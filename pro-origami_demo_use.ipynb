{
 "cells": [
  {
   "cell_type": "markdown",
   "id": "f57f8da1-7adf-436c-b1b9-93905746c317",
   "metadata": {},
   "source": [
    "## Pro-origami - proitein wiring diagram generation without any installations\n",
    "Based on [here](https://www.biostars.org/p/9552989/#9597554), which leads to [here](https://sites.google.com/site/alexdstivala/home/pro-origami) at present.\n",
    "\n",
    "This Jupyter Notebook file is meant to make it easy to use it without needing to install anything. Use described [here](https://sites.google.com/site/alexdstivala/home/pro-origami) is a little convoluted for those not used to dealing with Unix/unix-like command line and this notebook aims to make it much easier. (If you didn't start by clicking the 'launch binder' badge [here](https://github.com/fomightez/pro-origami-binder), you should as this notebook assumes that.)\n",
    "\n",
    "To get started feel free to select `Run` > `Run All Cells` and then read through as the steps run.  \n",
    "Or alternatively, read each cell and run each code cell in turn by entering '`Shift`+`enter`'\n",
    "\n",
    "#### Preparation\n",
    "\n",
    "A lot of the preparation has already been handled by integration with the MyBinder service if you are running this as intended. The software was already retrieved and unpacked and the working directory already changed. \n",
    "\n",
    "If you aren't running this as intended, try running this code in a Jupyter Noetbook to do those steps:\n",
    "\n",
    "```python\n",
    "# get the software & unpack, if needed (doing this way maked it easier to re-run entire notebook if needed)\n",
    "import os\n",
    "file_signifying_installed_software = \"./proorigami-cde-package/cde-root/home/proorigami/make_cartoon.sh\"\n",
    "if not os.path.isfile(file_signifying_installed_software):\n",
    "    !curl -OL https://stivalaa.github.io/AcademicWebsite/software/proorigami-cde-package.tar.gz\n",
    "    !tar zxf proorigami-cde-package.tar.gz\n",
    "#change working directory to the directory where the software works\n",
    "%cd proorigami-cde-package/cde-root/home/proorigami/\n",
    "```"
   ]
  },
  {
   "cell_type": "markdown",
   "id": "5e2cf2b4-2596-41fe-8862-f0a4620ab150",
   "metadata": {},
   "source": [
    "Getting your bearings...     \n",
    "The next two cells should show the following:\n",
    "\n",
    "For `pwd` result:\n",
    "\n",
    "```shell\n",
    "/home/jovyan/proorigami-cde-package/cde-root/home/proorigami\n",
    "```\n",
    "\n",
    "For `ls` result, which lists the files and diretories there:\n",
    "\n",
    "```shell\n",
    "1UBI.png  1UBI.svg  make_cartoon.sh*  make_cartoon.sh.cde*\n",
    "```"
   ]
  },
  {
   "cell_type": "code",
   "execution_count": 1,
   "id": "e7b1a446-c2d4-41b5-a45d-6e9db1f9dfb0",
   "metadata": {},
   "outputs": [
    {
     "data": {
      "text/plain": [
       "'/home/jovyan/proorigami-cde-package/cde-root/home/proorigami'"
      ]
     },
     "execution_count": 1,
     "metadata": {},
     "output_type": "execute_result"
    }
   ],
   "source": [
    "pwd"
   ]
  },
  {
   "cell_type": "code",
   "execution_count": 2,
   "id": "17993c6f-1dc5-47fd-a8c8-27ce06318cce",
   "metadata": {},
   "outputs": [
    {
     "name": "stdout",
     "output_type": "stream",
     "text": [
      "1UBI.png  \u001b[0m\u001b[01;32mmake_cartoon.sh\u001b[0m*      pro-origami_demo_use.ipynb\n",
      "1UBI.svg  \u001b[01;32mmake_cartoon.sh.cde\u001b[0m*\n"
     ]
    }
   ],
   "source": [
    "ls"
   ]
  },
  {
   "cell_type": "markdown",
   "id": "64ab508b-09b3-4a55-98d9-39015aeed039",
   "metadata": {},
   "source": [
    "The `ls` results is important because `make_cartoon.sh` is the script we'll run to generate the diagrams.  \n",
    "Backing up to the `pwd` means the current working directory is where the script is located, and the [current instructions here](https://sites.google.com/site/alexdstivala/home/pro-origami) indicate that needs to tbe the case.\n",
    "\n",
    "So the software to generate the topology wiring diagrams should be set.  \n",
    "What about input data?"
   ]
  },
  {
   "cell_type": "markdown",
   "id": "5e24dc1b-9572-4b3b-880d-e54268e8370e",
   "metadata": {},
   "source": [
    "##### Preparation continued: Getting structure data to use as input\n",
    "\n",
    "The software takes as input PDB files in the older style, not PDBx/mmCIF format, or even gzipped PDB files ,which are the older style PDB files in still compressed form. The code below will get several. \n",
    "Feel free to change one of them to the PDB id code of your favorite protein structure. I don't suggest changing all of them because this way you have a test in case something isn't correct. I know the process should work with what is provided."
   ]
  },
  {
   "cell_type": "code",
   "execution_count": 3,
   "id": "f6f42259-3137-40a8-9075-9e0b15340e17",
   "metadata": {},
   "outputs": [
    {
     "name": "stdout",
     "output_type": "stream",
     "text": [
      "  % Total    % Received % Xferd  Average Speed   Time    Time     Time  Current\n",
      "                                 Dload  Upload   Total   Spent    Left  Speed\n",
      "100 41994  100 41994    0     0  56188      0 --:--:-- --:--:-- --:--:-- 56141\n",
      "  % Total    % Received % Xferd  Average Speed   Time    Time     Time  Current\n",
      "                                 Dload  Upload   Total   Spent    Left  Speed\n",
      "100 63571  100 63571    0     0  98383      0 --:--:-- --:--:-- --:--:-- 98255\n",
      "  % Total    % Received % Xferd  Average Speed   Time    Time     Time  Current\n",
      "                                 Dload  Upload   Total   Spent    Left  Speed\n",
      "100 17743  100 17743    0     0  33803      0 --:--:-- --:--:-- --:--:-- 33796\n",
      "  % Total    % Received % Xferd  Average Speed   Time    Time     Time  Current\n",
      "                                 Dload  Upload   Total   Spent    Left  Speed\n",
      "100 10699  100 10699    0     0  20528      0 --:--:-- --:--:-- --:--:-- 20535\n"
     ]
    }
   ],
   "source": [
    "# get your protein structure files\n",
    "!curl -OL https://files.rcsb.org/download/1d66.pdb.gz\n",
    "!mkdir -p zipped_pdbs\n",
    "!mv 1d66.pdb.gz zipped_pdbs/\n",
    "!curl -OL https://files.rcsb.org/download/8hiz.pdb.gz\n",
    "!mv 8hiz.pdb.gz zipped_pdbs/\n",
    "!curl -OL https://files.rcsb.org/download/1ubi.pdb.gz\n",
    "!mv 1ubi.pdb.gz zipped_pdbs/\n",
    "!curl -OL https://files.rcsb.org/download/1crn.pdb.gz\n",
    "!gunzip 1crn.pdb.gz\n",
    "!mkdir -p pdbs\n",
    "!mv 1crn.pdb pdbs/"
   ]
  },
  {
   "cell_type": "markdown",
   "id": "eaaa3a32-5891-45f8-b1fb-ded6701f6e61",
   "metadata": {},
   "source": [
    "Let's run the main example first."
   ]
  },
  {
   "cell_type": "code",
   "execution_count": 8,
   "id": "5b4ec3d9-f799-42c8-9ea3-82e23fc0c2ff",
   "metadata": {},
   "outputs": [
    {
     "name": "stdout",
     "output_type": "stream",
     "text": [
      "/bin/sh: warning: setlocale: LC_ALL: cannot change locale (en_US.UTF-8)\n",
      "/bin/sh: warning: setlocale: LC_ALL: cannot change locale (en_US.UTF-8)\n",
      "/bin/sh: warning: setlocale: LC_ALL: cannot change locale (en_US.UTF-8)\n",
      " !!! Residue GLN   13 A has  1 instead of expected   5 sidechain atoms.\n",
      "     Calculated solvent accessibility refers to incomplete sidechain !!!\n",
      "\n",
      " !!! Residue ASP   22 A has  1 instead of expected   4 sidechain atoms.\n",
      "     Calculated solvent accessibility refers to incomplete sidechain !!!\n",
      "\n",
      " !!! Residue LYS  113 A has  1 instead of expected   5 sidechain atoms.\n",
      "     Calculated solvent accessibility refers to incomplete sidechain !!!\n",
      "\n",
      " !!! Residue LYS  211 A has  1 instead of expected   5 sidechain atoms.\n",
      "     Calculated solvent accessibility refers to incomplete sidechain !!!\n",
      "\n",
      " !!! Residue ARG  246 A has  1 instead of expected   7 sidechain atoms.\n",
      "     Calculated solvent accessibility refers to incomplete sidechain !!!\n",
      "\n",
      " !!! Residue ARG  265 A has  1 instead of expected   7 sidechain atoms.\n",
      "     Calculated solvent accessibility refers to incomplete sidechain !!!\n",
      "\n",
      " !!! Residue GLU  266 A has  1 instead of expected   5 sidechain atoms.\n",
      "     Calculated solvent accessibility refers to incomplete sidechain !!!\n",
      "\n",
      " !!! Residue LYS  271 A has  1 instead of expected   5 sidechain atoms.\n",
      "     Calculated solvent accessibility refers to incomplete sidechain !!!\n",
      "\n",
      " !!! Residue LYS  304 A has  1 instead of expected   5 sidechain atoms.\n",
      "     Calculated solvent accessibility refers to incomplete sidechain !!!\n",
      "\n",
      " !!! Residue LYS  419 A has  6 instead of expected   5 sidechain atoms.\n",
      "     last sidechain atom name is  OXT\n",
      "     calculated solvent accessibility includes extra atoms !!!\n",
      "\n",
      "/bin/sh: warning: setlocale: LC_ALL: cannot change locale (en_US.UTF-8)\n",
      "WARNING: (helix clustering) no reference strand for helix ALPHA ALPHAHELIX_A_8[366..391]\n",
      "WARNING: (helix clustering) no reference strand for helix ALPHA ALPHAHELIX_A_9[395..414]\n",
      "overlap count for 8HIZ-1.svg (default) is 0\n",
      "going back to to default gapsize (overlap count 0) for 8HIZ-1.svg\n",
      "overlap count for 8HIZ-2.svg (default) is 0\n",
      "going back to to default gapsize (overlap count 0) for 8HIZ-2.svg\n",
      "/bin/sh: warning: setlocale: LC_ALL: cannot change locale (en_US.UTF-8)\n",
      "\n",
      "(process:530): Gtk-WARNING **: Locale not supported by C library.\n",
      "\tUsing the fallback 'C' locale.\n",
      "Background RRGGBBAA: ffffffff\n",
      "Area 0:0:284:1193 exported to 284 x 1193 pixels (90 dpi)\n",
      "Bitmap saved as: 8HIZ-1.png\n",
      "/bin/sh: warning: setlocale: LC_ALL: cannot change locale (en_US.UTF-8)\n",
      "\n",
      "(process:534): Gtk-WARNING **: Locale not supported by C library.\n",
      "\tUsing the fallback 'C' locale.\n",
      "Background RRGGBBAA: ffffffff\n",
      "Area 0:0:1063:779 exported to 1063 x 779 pixels (90 dpi)\n",
      "Bitmap saved as: 8HIZ-2.png\n"
     ]
    }
   ],
   "source": [
    "!./make_cartoon.sh.cde zipped_pdbs/8hiz.pdb.gz"
   ]
  },
  {
   "cell_type": "markdown",
   "id": "105d899f-906e-405e-a0c3-95415e3488f9",
   "metadata": {},
   "source": [
    "Ignore any `Gtk-WARNING`-related notifications. You are using this in a Jupyter session on a remote machine if you ran this as intended, and the software cannot trigger opening the resulting file automatically for display as it would if installed on a desktop.    \n",
    "Because Jupyter is super convenient though we can still examine the output result.  \n",
    "To get started with that, let's see if we can see the result first by running the next cell?"
   ]
  },
  {
   "cell_type": "code",
   "execution_count": 4,
   "id": "99b4ab15-bad1-4f2d-9d5e-c2de83c2d222",
   "metadata": {},
   "outputs": [
    {
     "name": "stdout",
     "output_type": "stream",
     "text": [
      "1UBI.png  \u001b[0m\u001b[01;32mmake_cartoon.sh\u001b[0m*      \u001b[01;34mpdbs\u001b[0m/                       \u001b[01;34mzipped_pdbs\u001b[0m/\n",
      "1UBI.svg  \u001b[01;32mmake_cartoon.sh.cde\u001b[0m*  pro-origami_demo_use.ipynb\n"
     ]
    }
   ],
   "source": [
    "ls"
   ]
  },
  {
   "cell_type": "markdown",
   "id": "77d47d14-b8bf-4fca-a85d-975217c7ce2a",
   "metadata": {},
   "source": [
    "The protein observed in the structure with PDB id code `8hiz` contains two compact folded domains, seen in an independent wiring topology diagram [here](https://www.ebi.ac.uk/thornton-srv/databases/cgi-bin/pdbsum/GetPage.pl?pdbcode=8hiz&template=protein.html&r=wiring&l=1&chain=A) & summarized [here](https://www.chem.uwec.edu/webpapers2005/mintermm/pages/gdh.html#:~:text=group%2C%20or%20domain.-,GDH%20consist%20of%20two%20domains%2C%20which%20are%20separated%20by%20an,Domain%20I%20is%20colored%20blue.) and [here](https://proteopedia.org/wiki/index.php/Glutamate_dehydrogenase#Structural_highlights). Because there are two domains, Pro-origami produces two output files, one for each compact folded domain.\n",
    "\n",
    "The output are in both bitmap, `.png` and vector-based, `.svg`, forms of the images for use in various ways.\n",
    "\n",
    "You have options in the intended Jupyter session here to look into the output.  \n",
    "You can simply double click on the files `8HIZ-1.png` and `8HIZ-2.png` listed in the file navigation panel on the left to view them.\n",
    "Or run the next to code cells to view the images right in the notebook."
   ]
  },
  {
   "cell_type": "code",
   "execution_count": 9,
   "id": "1439bf5e-a1e9-4689-9f25-16cff855a1a7",
   "metadata": {},
   "outputs": [
    {
     "data": {
      "image/png": "[encoded data removed]",
      "text/plain": [
       "<IPython.core.display.Image object>"
      ]
     },
     "execution_count": 9,
     "metadata": {},
     "output_type": "execute_result"
    }
   ],
   "source": [
    "from IPython.display import Image\n",
    "Image('8HIZ-1.png')"
   ]
  },
  {
   "cell_type": "code",
   "execution_count": 10,
   "id": "0a5f5ae1-c03d-4bcd-bb53-a5d0cfc7ff33",
   "metadata": {},
   "outputs": [
    {
     "data": {
      "image/png": "[encoded data removed]",
      "text/plain": [
       "<IPython.core.display.Image object>"
      ]
     },
     "execution_count": 10,
     "metadata": {},
     "output_type": "execute_result"
    }
   ],
   "source": [
    "from IPython.display import Image\n",
    "Image('8HIZ-2.png')"
   ]
  },
  {
   "cell_type": "markdown",
   "id": "0bf7831e-25e6-4c55-be32-9a30663b016c",
   "metadata": {},
   "source": [
    "### Running all the rest of the examples\n",
    "\n",
    "Let's move the examples of output supplied with the software to set up to run all the rest. (I made sure when getting started that data from PDB 1ubi is giving same result as the `1UBI.png` included in the software, and so we shouldn't need it around to check, but this leaves the possibility users can verify themselves.)"
   ]
  },
  {
   "cell_type": "code",
   "execution_count": 11,
   "id": "c62206c5-264e-436e-8e20-28bc44d34dbb",
   "metadata": {},
   "outputs": [],
   "source": [
    "!mv 1UBI.png orig_1UBI.png\n",
    "!mv 1UBI.svg orig_1UBI.svg"
   ]
  },
  {
   "cell_type": "markdown",
   "id": "b7467fd7-a96f-42f8-af33-101a862e540f",
   "metadata": {},
   "source": [
    "Let's run the rest!  \n",
    "The code below will check if any PDB files are in the two directories `pdbs` or `zipped_pdbs` and process them **with the default settings** if they haven't already been processed.  \n",
    "You may wish to get your favorite PDB file now before running this since it takes some time. You should place the file in one of the two directories, it doesn't really matter which one as any `.pdb` or `.pdb.gz` file will be processed by running the following code. Specifically, 8hiz get skipped since it was just run."
   ]
  },
  {
   "cell_type": "markdown",
   "id": "f5d6de48-0910-4a4e-9b08-a4fe1395080b",
   "metadata": {},
   "source": [
    "The following code will make a list of the files and iterate on that list to run `make_cartoon.sh.cde` using each as input, while skipping '8hiz'."
   ]
  },
  {
   "cell_type": "code",
   "execution_count": 1,
   "id": "b328b78d-3fa6-4330-ad47-95414f6f7fd0",
   "metadata": {},
   "outputs": [
    {
     "name": "stdout",
     "output_type": "stream",
     "text": [
      "/bin/sh: warning: setlocale: LC_ALL: cannot change locale (en_US.UTF-8)\n",
      "/bin/sh: warning: setlocale: LC_ALL: cannot change locale (en_US.UTF-8)\n",
      "^C\n",
      "Traceback (most recent call last):\n",
      "  File \"/usr/local/proorigami-prod/ptgraph/ptgraph2.py\", line 7317, in <module>\n",
      "    main()\n",
      "  File \"/usr/local/proorigami-prod/ptgraph/ptgraph2.py\", line 7306, in main\n",
      "    label_residue_numbers)\n",
      "  File \"/usr/local/proorigami-prod/ptgraph/ptgraph2.py\", line 6513, in make_graphs\n",
      "    pdb_secstruct)\n",
      "  File \"/usr/local/proorigami-prod/ptgraph/ptsecstruct.py\", line 557, in read_secstruct_from_dssp\n",
      "    ptsecstruct = parse_dssp_output(fd, pdb_secstruct)\n",
      "  File \"/usr/local/proorigami-prod/ptgraph/ptsecstruct.py\", line 607, in parse_dssp_output\n",
      "    for line in filehandle:\n",
      "KeyboardInterrupt\n",
      "ptgraph2.py failed\n",
      "/bin/sh: warning: setlocale: LC_ALL: cannot change locale (en_US.UTF-8)\n",
      "/bin/sh: warning: setlocale: LC_ALL: cannot change locale (en_US.UTF-8)\n",
      "/bin/sh: warning: setlocale: LC_ALL: cannot change locale (en_US.UTF-8)\n",
      "/usr/lib64/python2.7/site-packages/Bio/PDB/StructureBuilder.py:86: PDBConstructionWarning: WARNING: Chain A is discontinuous at line 2271.\n",
      "  PDBConstructionWarning)\n",
      "/usr/lib64/python2.7/site-packages/Bio/PDB/StructureBuilder.py:86: PDBConstructionWarning: WARNING: Chain B is discontinuous at line 2273.\n",
      "  PDBConstructionWarning)\n",
      "/usr/lib64/python2.7/site-packages/Bio/PDB/StructureBuilder.py:86: PDBConstructionWarning: WARNING: Chain D is discontinuous at line 2275.\n",
      "  PDBConstructionWarning)\n",
      "/usr/lib64/python2.7/site-packages/Bio/PDB/StructureBuilder.py:86: PDBConstructionWarning: WARNING: Chain E is discontinuous at line 2288.\n",
      "  PDBConstructionWarning)\n",
      "/usr/lib64/python2.7/site-packages/Bio/PDB/StructureBuilder.py:86: PDBConstructionWarning: WARNING: Chain A is discontinuous at line 2299.\n",
      "  PDBConstructionWarning)\n",
      "/usr/lib64/python2.7/site-packages/Bio/PDB/StructureBuilder.py:86: PDBConstructionWarning: WARNING: Chain B is discontinuous at line 2313.\n",
      "  PDBConstructionWarning)\n",
      "^C\n",
      "Traceback (most recent call last):\n",
      "  File \"/usr/local/proorigami-prod/ptgraph/ptgraph2.py\", line 7317, in <module>\n",
      "    main()\n",
      "  File \"/usr/local/proorigami-prod/ptgraph/ptgraph2.py\", line 7306, in main\n",
      "    label_residue_numbers)\n",
      "  File \"/usr/local/proorigami-prod/ptgraph/ptgraph2.py\", line 6562, in make_graphs\n",
      "    pdb_struct[0]) # TODO: model 0\n",
      "  File \"/usr/local/proorigami-prod/ptgraph/ptdomain.py\", line 433, in read_domains_from_ddomain\n",
      "    (ddomain_stdin, ddomain_stdout) = os.popen2(\"DDomain\")\n",
      "  File \"/usr/lib64/python2.7/os.py\", line 671, in popen2\n",
      "    close_fds=True)\n",
      "  File \"/usr/lib64/python2.7/subprocess.py\", line 711, in __init__\n",
      "    errread, errwrite)\n",
      "  File \"/usr/lib64/python2.7/subprocess.py\", line 1296, in _execute_child\n",
      "    data = _eintr_retry_call(os.read, errpipe_read, 1048576)\n",
      "  File \"/usr/lib64/python2.7/subprocess.py\", line 478, in _eintr_retry_call\n",
      "    return func(*args)\n",
      "KeyboardInterrupt\n",
      "ptgraph2.py failed\n"
     ]
    },
    {
     "name": "stderr",
     "output_type": "stream",
     "text": [
      "Exception ignored in: <bound method IPythonKernel._clean_thread_parent_frames of <ipykernel.ipkernel.IPythonKernel object at 0x7f2426f8e950>>\n",
      "Traceback (most recent call last):\n",
      "  File \"/srv/conda/envs/notebook/lib/python3.10/site-packages/ipykernel/ipkernel.py\", line 770, in _clean_thread_parent_frames\n",
      "    def _clean_thread_parent_frames(\n",
      "KeyboardInterrupt: \n",
      "\n",
      "KeyboardInterrupt\n",
      "\n"
     ]
    }
   ],
   "source": [
    "import os\n",
    "the_pdb_directories = ['pdbs','zipped_pdbs']\n",
    "for current_directory in the_pdb_directories:\n",
    "    for filename in os.listdir(current_directory):\n",
    "        if filename.lower().endswith(('.pdb', '.pdb.gz')) and filename != '8hiz.pdb.gz':\n",
    "            !./make_cartoon.sh.cde {current_directory}/{filename}"
   ]
  },
  {
   "cell_type": "markdown",
   "id": "2256e848-c2fc-4120-b701-50d1a9e72ebf",
   "metadata": {},
   "source": [
    "Examine the images made any of the ways described above.\n",
    "\n",
    "**If you make anything useful be sure to download it ASAP as this session is temporary.**  \n",
    "You can right-click on files showing in the file browser to the left and select '`Download`' to download them to your local machine."
   ]
  },
  {
   "cell_type": "markdown",
   "id": "4788012d-778a-4400-934c-7dff9b9db7d9",
   "metadata": {},
   "source": [
    "If you haven't retrieved your favorite protein structure file yet and processed it, please use the code above as a guide, or simply edit the code, and step through doing that now.\n",
    "\n",
    "-----\n",
    "\n",
    "Enjoy!"
   ]
  }
 ],
 "metadata": {
  "kernelspec": {
   "display_name": "Python 3 (ipykernel)",
   "language": "python",
   "name": "python3"
  },
  "language_info": {
   "codemirror_mode": {
    "name": "ipython",
    "version": 3
   },
   "file_extension": ".py",
   "mimetype": "text/x-python",
   "name": "python",
   "nbconvert_exporter": "python",
   "pygments_lexer": "ipython3",
   "version": "3.10.14"
  }
 },
 "nbformat": 4,
 "nbformat_minor": 5
}
