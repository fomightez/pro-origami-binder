{
 "cells": [
  {
   "cell_type": "markdown",
   "id": "f57f8da1-7adf-436c-b1b9-93905746c317",
   "metadata": {},
   "source": [
    "## Pro-origami - proitein wiring diagram generation without any installations\n",
    "Based on [here](), which leads to [here](https://sites.google.com/site/alexdstivala/home/pro-origami) at present.\n",
    "\n",
    "This Jupyter Notebook file is meant to make it easy to use it without needing to install anything.\n",
    "\n",
    "#### Preparation\n",
    "\n",
    "Retrieve the software"
   ]
  },
  {
   "cell_type": "code",
   "execution_count": 3,
   "id": "b82ee676-3b7d-487e-bbc9-cda2f5d618dd",
   "metadata": {},
   "outputs": [
    {
     "name": "stdout",
     "output_type": "stream",
     "text": [
      "  % Total    % Received % Xferd  Average Speed   Time    Time     Time  Current\n",
      "                                 Dload  Upload   Total   Spent    Left  Speed\n",
      "100 43.6M  100 43.6M    0     0  13.7M      0  0:00:03  0:00:03 --:--:-- 13.7M\n"
     ]
    }
   ],
   "source": [
    "# get the software & unpack, if needed (doing this way maked it easier to re-run entire notebook if needed)\n",
    "import os\n",
    "file_signifying_installed_software = \"./proorigami-cde-package/cde-root/home/proorigami/make_cartoon.sh\"\n",
    "if not os.path.isfile(file_signifying_installed_software):\n",
    "    !curl -OL https://stivalaa.github.io/AcademicWebsite/software/proorigami-cde-package.tar.gz\n",
    "    !tar zxf proorigami-cde-package.tar.gz "
   ]
  },
  {
   "cell_type": "markdown",
   "id": "10b27af6-0a6e-4d64-b489-ed061eb4cf69",
   "metadata": {},
   "source": [
    "I think because the authors envisioned the webserver to be the primary way to use it, the use described [here](https://sites.google.com/site/alexdstivala/home/pro-origami) is a little convoluted for those not used to dealing with Unix/unix-like command line, and so here just step through running the cell below to change the directory to the appropriate location to use the software before you retrieve PDB files and try it. (The magic variation of the change directory command is used so the Jupyter notebook changes to it for subsequent cells in the same session. If you restart the kernel, you'll need to re-run this though because this notebook is not located where the software is. [YET. I could add postBuild if this all works and do this ahead of time so easier.])"
   ]
  },
  {
   "cell_type": "code",
   "execution_count": 2,
   "id": "9022931e-4c2a-4721-9059-8507e437e63e",
   "metadata": {},
   "outputs": [
    {
     "name": "stdout",
     "output_type": "stream",
     "text": [
      "/home/jovyan/proorigami-cde-package/cde-root/home/proorigami\n"
     ]
    }
   ],
   "source": [
    "#change working directory to the directory where the software works\n",
    "%cd proorigami-cde-package/cde-root/home/proorigami/"
   ]
  },
  {
   "cell_type": "markdown",
   "id": "5e2cf2b4-2596-41fe-8862-f0a4620ab150",
   "metadata": {},
   "source": [
    "Verifying that was effective.     \n",
    "The next two cells should show the following:\n",
    "\n",
    "For `pwd` result:\n",
    "\n",
    "```shell\n",
    "/home/jovyan/proorigami-cde-package/cde-root/home/proorigami\n",
    "```\n",
    "\n",
    "For `ls` result, which lists the files and diretories there:\n",
    "\n",
    "```shell\n",
    "1UBI.png  1UBI.svg  make_cartoon.sh*  make_cartoon.sh.cde*\n",
    "```"
   ]
  },
  {
   "cell_type": "code",
   "execution_count": 7,
   "id": "e7b1a446-c2d4-41b5-a45d-6e9db1f9dfb0",
   "metadata": {},
   "outputs": [
    {
     "data": {
      "text/plain": [
       "'/home/jovyan/proorigami-cde-package/cde-root/home/proorigami'"
      ]
     },
     "execution_count": 7,
     "metadata": {},
     "output_type": "execute_result"
    }
   ],
   "source": [
    "pwd"
   ]
  },
  {
   "cell_type": "code",
   "execution_count": null,
   "id": "17993c6f-1dc5-47fd-a8c8-27ce06318cce",
   "metadata": {},
   "outputs": [],
   "source": [
    "ls"
   ]
  },
  {
   "cell_type": "code",
   "execution_count": null,
   "id": "966b4c99-4438-4a65-92c4-cf6862e7fb91",
   "metadata": {},
   "outputs": [],
   "source": []
  },
  {
   "cell_type": "markdown",
   "id": "5e24dc1b-9572-4b3b-880d-e54268e8370e",
   "metadata": {},
   "source": [
    "The software takes as input PDB files in the older style, not PDBx/mmCIF format, or even gzipped PDB files ,which are the older style PDB files in still compressed form. The code below will get several. \n",
    "Feel free to change one of them to the PDB id code of your favorite protein structure. I don't suggest changing all of them because this way you have a test in case something isn't correct. I know the process should work with what is provided."
   ]
  },
  {
   "cell_type": "code",
   "execution_count": 8,
   "id": "a4a92a2f-5960-4ba2-bfed-b77a8b825351",
   "metadata": {},
   "outputs": [],
   "source": []
  },
  {
   "cell_type": "code",
   "execution_count": 9,
   "id": "f6f42259-3137-40a8-9075-9e0b15340e17",
   "metadata": {},
   "outputs": [
    {
     "name": "stdout",
     "output_type": "stream",
     "text": [
      "  % Total    % Received % Xferd  Average Speed   Time    Time     Time  Current\n",
      "                                 Dload  Upload   Total   Spent    Left  Speed\n",
      "100 41994  100 41994    0     0  76076      0 --:--:-- --:--:-- --:--:-- 75938\n",
      "mv: cannot stat '1D66.pdb.gz.pdb': No such file or directory\n",
      "  % Total    % Received % Xferd  Average Speed   Time    Time     Time  Current\n",
      "                                 Dload  Upload   Total   Spent    Left  Speed\n",
      "100 17743  100 17743    0     0  38488      0 --:--:-- --:--:-- --:--:-- 38404\n",
      "mv: cannot stat '1UBI.pdb.gz.pdb': No such file or directory\n"
     ]
    }
   ],
   "source": [
    "# get your protein structure files\n",
    "!curl -OL https://files.rcsb.org/download/1d66.pdb.gz\n",
    "!mkdir -p zipped_pdbs\n",
    "!mv 1d66.pdb.gz zipped_pdbs/\n",
    "!curl -OL https://files.rcsb.org/download/8hiz.pdb.gz\n",
    "!mv 8hiz.pdb.gz zipped_pdbs/\n",
    "!curl -OL https://files.rcsb.org/download/1ubi.pdb.gz\n",
    "!mv 1ubi.pdb.gz zipped_pdbs/\n",
    "!curl -OL https://files.rcsb.org/download/1crn.pdb.gz\n",
    "!gunzip 1crn.pdb.gz\n",
    "!mkdir -p pdbs\n",
    "!mv 1crn.pdb pdbs/"
   ]
  },
  {
   "cell_type": "code",
   "execution_count": 12,
   "id": "a32d3386-9e23-4dad-ae2d-6dd2f6de2f7a",
   "metadata": {},
   "outputs": [
    {
     "name": "stdout",
     "output_type": "stream",
     "text": [
      "mv: cannot stat '1UBI.pdb.gz': No such file or directory\n"
     ]
    }
   ],
   "source": [
    "!mv 1UBI.pdb.gz zipped_pdbs/"
   ]
  },
  {
   "cell_type": "code",
   "execution_count": 15,
   "id": "5b4ec3d9-f799-42c8-9ea3-82e23fc0c2ff",
   "metadata": {},
   "outputs": [
    {
     "name": "stdout",
     "output_type": "stream",
     "text": [
      "/bin/sh: warning: setlocale: LC_ALL: cannot change locale (en_US.UTF-8)\n",
      "/bin/sh: warning: setlocale: LC_ALL: cannot change locale (en_US.UTF-8)\n",
      "/bin/sh: warning: setlocale: LC_ALL: cannot change locale (en_US.UTF-8)\n",
      " !!! Residue GLN   13 A has  1 instead of expected   5 sidechain atoms.\n",
      "     Calculated solvent accessibility refers to incomplete sidechain !!!\n",
      "\n",
      " !!! Residue ASP   22 A has  1 instead of expected   4 sidechain atoms.\n",
      "     Calculated solvent accessibility refers to incomplete sidechain !!!\n",
      "\n",
      " !!! Residue LYS  113 A has  1 instead of expected   5 sidechain atoms.\n",
      "     Calculated solvent accessibility refers to incomplete sidechain !!!\n",
      "\n",
      " !!! Residue LYS  211 A has  1 instead of expected   5 sidechain atoms.\n",
      "     Calculated solvent accessibility refers to incomplete sidechain !!!\n",
      "\n",
      " !!! Residue ARG  246 A has  1 instead of expected   7 sidechain atoms.\n",
      "     Calculated solvent accessibility refers to incomplete sidechain !!!\n",
      "\n",
      " !!! Residue ARG  265 A has  1 instead of expected   7 sidechain atoms.\n",
      "     Calculated solvent accessibility refers to incomplete sidechain !!!\n",
      "\n",
      " !!! Residue GLU  266 A has  1 instead of expected   5 sidechain atoms.\n",
      "     Calculated solvent accessibility refers to incomplete sidechain !!!\n",
      "\n",
      " !!! Residue LYS  271 A has  1 instead of expected   5 sidechain atoms.\n",
      "     Calculated solvent accessibility refers to incomplete sidechain !!!\n",
      "\n",
      " !!! Residue LYS  304 A has  1 instead of expected   5 sidechain atoms.\n",
      "     Calculated solvent accessibility refers to incomplete sidechain !!!\n",
      "\n",
      " !!! Residue LYS  419 A has  6 instead of expected   5 sidechain atoms.\n",
      "     last sidechain atom name is  OXT\n",
      "     calculated solvent accessibility includes extra atoms !!!\n",
      "\n",
      "/bin/sh: warning: setlocale: LC_ALL: cannot change locale (en_US.UTF-8)\n",
      "WARNING: (helix clustering) no reference strand for helix ALPHA ALPHAHELIX_A_8[366..391]\n",
      "WARNING: (helix clustering) no reference strand for helix ALPHA ALPHAHELIX_A_9[395..414]\n",
      "overlap count for 8HIZ-1.svg (default) is 0\n",
      "going back to to default gapsize (overlap count 0) for 8HIZ-1.svg\n",
      "overlap count for 8HIZ-2.svg (default) is 0\n",
      "going back to to default gapsize (overlap count 0) for 8HIZ-2.svg\n",
      "/bin/sh: warning: setlocale: LC_ALL: cannot change locale (en_US.UTF-8)\n",
      "\n",
      "(process:220): Gtk-WARNING **: Locale not supported by C library.\n",
      "\tUsing the fallback 'C' locale.\n",
      "Background RRGGBBAA: ffffffff\n",
      "Area 0:0:284:1193 exported to 284 x 1193 pixels (90 dpi)\n",
      "Bitmap saved as: 8HIZ-1.png\n",
      "/bin/sh: warning: setlocale: LC_ALL: cannot change locale (en_US.UTF-8)\n",
      "\n",
      "(process:224): Gtk-WARNING **: Locale not supported by C library.\n",
      "\tUsing the fallback 'C' locale.\n",
      "Background RRGGBBAA: ffffffff\n",
      "Area 0:0:1063:779 exported to 1063 x 779 pixels (90 dpi)\n",
      "Bitmap saved as: 8HIZ-2.png\n"
     ]
    }
   ],
   "source": [
    "!./make_cartoon.sh.cde zipped_pdbs/8hiz.pdb.gz"
   ]
  },
  {
   "cell_type": "markdown",
   "id": "105d899f-906e-405e-a0c3-95415e3488f9",
   "metadata": {},
   "source": [
    "Ignore any `Gtk-WARNING`-related notifications. You are using this in a Jupyter session on a remote machine if you ran this as intended and you cannot open the file automatically for display as you would id installed on a desktop.  \n",
    "Because Jupyter is super convenient though we can still examine the output result."
   ]
  },
  {
   "cell_type": "code",
   "execution_count": 16,
   "id": "99b4ab15-bad1-4f2d-9d5e-c2de83c2d222",
   "metadata": {},
   "outputs": [
    {
     "name": "stdout",
     "output_type": "stream",
     "text": [
      "1UBI.png  8HIZ-1.png  8HIZ-2.png  \u001b[0m\u001b[01;32mmake_cartoon.sh\u001b[0m*      \u001b[01;34mzipped_pdbs\u001b[0m/\n",
      "1UBI.svg  8HIZ-1.svg  8HIZ-2.svg  \u001b[01;32mmake_cartoon.sh.cde\u001b[0m*\n"
     ]
    }
   ],
   "source": [
    "ls"
   ]
  },
  {
   "cell_type": "markdown",
   "id": "77d47d14-b8bf-4fca-a85d-975217c7ce2a",
   "metadata": {},
   "source": [
    "The protein observed in the structure with PDB id code `8hiz` contains two compact folded domains, seen in an independent wiring topology diagram [here](https://www.ebi.ac.uk/thornton-srv/databases/cgi-bin/pdbsum/GetPage.pl?pdbcode=8hiz&template=protein.html&r=wiring&l=1&chain=A) & summarized [here](https://www.chem.uwec.edu/webpapers2005/mintermm/pages/gdh.html#:~:text=group%2C%20or%20domain.-,GDH%20consist%20of%20two%20domains%2C%20which%20are%20separated%20by%20an,Domain%20I%20is%20colored%20blue.) and [here](https://proteopedia.org/wiki/index.php/Glutamate_dehydrogenase#Structural_highlights). Because there are two domains, Pro-origami produces two output files, one for each compact folded domain.\n",
    "\n",
    "The output are in both bitmap, `.png` and vector-based, `.svg`, forms of the images for use in various ways."
   ]
  },
  {
   "cell_type": "code",
   "execution_count": null,
   "id": "971ad0f4-d3fe-48d3-8af0-663fe7ef5bed",
   "metadata": {},
   "outputs": [],
   "source": []
  },
  {
   "cell_type": "code",
   "execution_count": 13,
   "id": "550d63fc-db28-4590-811f-055e93b43c21",
   "metadata": {},
   "outputs": [
    {
     "name": "stdout",
     "output_type": "stream",
     "text": [
      "  % Total    % Received % Xferd  Average Speed   Time    Time     Time  Current\n",
      "                                 Dload  Upload   Total   Spent    Left  Speed\n",
      "100 63571  100 63571    0     0   101k      0 --:--:-- --:--:-- --:--:--  101k\n"
     ]
    }
   ],
   "source": [
    "!curl -OL https://files.rcsb.org/download/8hiz.pdb.gz\n",
    "!mv 8hiz.pdb.gz zipped_pdbs/"
   ]
  },
  {
   "cell_type": "code",
   "execution_count": 17,
   "id": "42df8800-7561-4e4e-b323-48fcfcc64cd8",
   "metadata": {},
   "outputs": [
    {
     "name": "stdout",
     "output_type": "stream",
     "text": [
      "  % Total    % Received % Xferd  Average Speed   Time    Time     Time  Current\n",
      "                                 Dload  Upload   Total   Spent    Left  Speed\n",
      "100 41994  100 41994    0     0  13425      0  0:00:03  0:00:03 --:--:-- 13425\n"
     ]
    }
   ],
   "source": []
  },
  {
   "cell_type": "code",
   "execution_count": 1,
   "id": "f2b9ea41-1dec-4859-a447-bd0dde823023",
   "metadata": {},
   "outputs": [
    {
     "name": "stdout",
     "output_type": "stream",
     "text": [
      "  % Total    % Received % Xferd  Average Speed   Time    Time     Time  Current\n",
      "                                 Dload  Upload   Total   Spent    Left  Speed\n",
      "100 10699  100 10699    0     0  19312      0 --:--:-- --:--:-- --:--:-- 19312\n"
     ]
    }
   ],
   "source": [
    "!curl -OL https://files.rcsb.org/download/1crn.pdb.gz\n",
    "!gunzip 1crn.pdb"
   ]
  },
  {
   "cell_type": "code",
   "execution_count": null,
   "id": "1c19f6d9-a908-46af-9f10-5cb41c52144d",
   "metadata": {},
   "outputs": [],
   "source": [
    "!mv 1crn.pdb "
   ]
  },
  {
   "cell_type": "code",
   "execution_count": 3,
   "id": "c07e34ec-4a56-4149-b8e7-7bda3f0c9840",
   "metadata": {},
   "outputs": [
    {
     "name": "stdout",
     "output_type": "stream",
     "text": [
      "/bin/sh: warning: setlocale: LC_ALL: cannot change locale (en_US.UTF-8)\n",
      "/bin/sh: warning: setlocale: LC_ALL: cannot change locale (en_US.UTF-8)\n",
      " !!! Residue ASN   46 A has  5 instead of expected   4 sidechain atoms.\n",
      "     last sidechain atom name is  OXT\n",
      "     calculated solvent accessibility includes extra atoms !!!\n",
      "\n",
      "/bin/sh: warning: setlocale: LC_ALL: cannot change locale (en_US.UTF-8)\n",
      "overlap count for 1CRN.svg (default) is 0\n",
      "going back to to default gapsize (overlap count 0) for 1CRN.svg\n",
      "/bin/sh: warning: setlocale: LC_ALL: cannot change locale (en_US.UTF-8)\n",
      "\n",
      "(process:400): Gtk-WARNING **: Locale not supported by C library.\n",
      "\tUsing the fallback 'C' locale.\n",
      "Background RRGGBBAA: ffffffff\n",
      "Area 0:0:104:638 exported to 104 x 638 pixels (90 dpi)\n",
      "Bitmap saved as: 1CRN.png\n"
     ]
    }
   ],
   "source": [
    "!./make_cartoon.sh.cde zipped_pdbs/1crn.pdb"
   ]
  },
  {
   "cell_type": "code",
   "execution_count": null,
   "id": "981ea149-2cc6-40b7-8c1f-c26ab2749f56",
   "metadata": {},
   "outputs": [],
   "source": []
  }
 ],
 "metadata": {
  "kernelspec": {
   "display_name": "Python 3 (ipykernel)",
   "language": "python",
   "name": "python3"
  },
  "language_info": {
   "codemirror_mode": {
    "name": "ipython",
    "version": 3
   },
   "file_extension": ".py",
   "mimetype": "text/x-python",
   "name": "python",
   "nbconvert_exporter": "python",
   "pygments_lexer": "ipython3",
   "version": "3.10.6"
  }
 },
 "nbformat": 4,
 "nbformat_minor": 5
}
